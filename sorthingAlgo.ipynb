{
 "metadata": {
  "language_info": {
   "codemirror_mode": {
    "name": "ipython",
    "version": 3
   },
   "file_extension": ".py",
   "mimetype": "text/x-python",
   "name": "python",
   "nbconvert_exporter": "python",
   "pygments_lexer": "ipython3",
   "version": "3.8.5-final"
  },
  "orig_nbformat": 2,
  "kernelspec": {
   "name": "Python 3.8.5 32-bit",
   "display_name": "Python 3.8.5 32-bit",
   "metadata": {
    "interpreter": {
     "hash": "6d58817d7a36abfa3a827e4c983e24a2b2aeec7ad475bf8b9406aeab7b3302d2"
    }
   }
  }
 },
 "nbformat": 4,
 "nbformat_minor": 2,
 "cells": [
  {
   "cell_type": "code",
   "execution_count": 1,
   "metadata": {},
   "outputs": [],
   "source": [
    "array = [1,2,1,25,51,5]"
   ]
  },
  {
   "source": [
    "# Using Bubble sort Algorithm"
   ],
   "cell_type": "markdown",
   "metadata": {}
  },
  {
   "cell_type": "code",
   "execution_count": 2,
   "metadata": {
    "tags": []
   },
   "outputs": [
    {
     "output_type": "stream",
     "name": "stdout",
     "text": "Inside If = [2, 1, 1, 25, 51, 5]\nInside If = [2, 1, 25, 1, 51, 5]\nInside If = [2, 1, 25, 51, 1, 5]\nInside If = [2, 1, 25, 51, 5, 1]\nInside If = [2, 25, 1, 51, 5, 1]\nInside If = [2, 25, 51, 1, 5, 1]\nInside If = [2, 25, 51, 5, 1, 1]\nInside If = [25, 2, 51, 5, 1, 1]\nInside If = [25, 51, 2, 5, 1, 1]\nInside If = [25, 51, 5, 2, 1, 1]\nInside If = [51, 25, 5, 2, 1, 1]\n[51, 25, 5, 2, 1, 1]\n"
    }
   ],
   "source": [
    "length = len(array)\n",
    "for i in range(0,length-1):\n",
    "    for j in range(length-i-1):\n",
    "        if array[j] <array[j+1]:\n",
    "            array[j+1],array[j] = array[j],array[j+1]\n",
    "            ## TO Print All the replacements done\n",
    "            print(\"Inside If =\",array)\n",
    "\n",
    "print(array)"
   ]
  },
  {
   "cell_type": "code",
   "execution_count": 3,
   "metadata": {},
   "outputs": [],
   "source": []
  }
 ]
}